{
  "nbformat": 4,
  "nbformat_minor": 0,
  "metadata": {
    "colab": {
      "name": "R-heatmap.ipynb",
      "provenance": [],
      "collapsed_sections": [],
      "toc_visible": true,
      "include_colab_link": true
    },
    "kernelspec": {
      "name": "ir",
      "display_name": "R"
    }
  },
  "cells": [
    {
      "cell_type": "markdown",
      "metadata": {
        "id": "view-in-github",
        "colab_type": "text"
      },
      "source": [
        "<a href=\"https://colab.research.google.com/github/zhangxun-lime/sts/blob/master/R_heatmap.ipynb\" target=\"_parent\"><img src=\"https://colab.research.google.com/assets/colab-badge.svg\" alt=\"Open In Colab\"/></a>"
      ]
    },
    {
      "cell_type": "markdown",
      "metadata": {
        "id": "-uGE5NW-Y-BN",
        "colab_type": "text"
      },
      "source": [
        ""
      ]
    },
    {
      "cell_type": "markdown",
      "metadata": {
        "id": "Dly-riL4Y_0D",
        "colab_type": "text"
      },
      "source": [
        "# 1、矩形热图绘制代码 \n",
        "## Draw a rectangular heatmap\n"
      ]
    },
    {
      "cell_type": "code",
      "metadata": {
        "id": "W-17fljAZKZY",
        "colab_type": "code",
        "colab": {}
      },
      "source": [
        "# 加载热图需要的函数包\n",
        "install.packages(\"pheatmap\")\n",
        "install.packages(\"vegan\")\n",
        "install.packages(\"gplots\")\n",
        "library(pheatmap)\n",
        "library(gplots)\n",
        "library(vegan)"
      ],
      "execution_count": 0,
      "outputs": []
    },
    {
      "cell_type": "code",
      "metadata": {
        "id": "qSPfdOkFP9N6",
        "colab_type": "code",
        "colab": {}
      },
      "source": [
        "## 读取csv文件\n",
        "setwd(\"/content/heatmap-rectangular\")\n",
        "getwd()\n",
        "myfiles <- list.files(pattern = \"*.csv\")\n",
        "myfiles\n",
        "matrix <- read.csv(myfiles[1], sep=',', header=T, check.names=FALSE, row.names=1)\n",
        "head(matrix)\n",
        "## 提取xx表达值所在的列，组成新的矩阵，并将矩阵转置\n",
        "## 由于 R 语言的 scale 函数是按列归一化，对于我们一般习惯基因名为行，样本名为列的数据框，就需要进行转置\n",
        "mat <- t(matrix[,1:45])\n",
        "head(mat)\n",
        "## 归一化处理\n",
        "mat <- scale(mat, center = TRUE, scale = TRUE)\n",
        "head(mat)\n",
        "## 绘制热图\n",
        "pheatmap(mat)\n",
        "## 绘制热图(调试参数)\n",
        "# pheatmap(mat,cellwidth = NA, cellheight = NA, \n",
        "#         treeheight_row = 50, treeheight_col = 50 ,color = colorRampPalette(c(\"blue\", \"white\",\"red\"))(100), \n",
        "#         scale =\"row\", legend = TRUE,border_color = NA, fontsize_row = 8, fontsize_col = 10,\n",
        "#         clustering_distance_rows = drows, clustering_distance_cols = dcols, clustering_method =\"average\",main =\"Heatmap\")\n",
        "dev.off()"
      ],
      "execution_count": 0,
      "outputs": []
    },
    {
      "cell_type": "markdown",
      "metadata": {
        "id": "IKMRbDY-ZizP",
        "colab_type": "text"
      },
      "source": [
        "#2、环状热图绘制代码\n",
        "## Draw a ring heatmap\n",
        "\n",
        "\n"
      ]
    },
    {
      "cell_type": "code",
      "metadata": {
        "id": "5Dt1xiIxZj1M",
        "colab_type": "code",
        "colab": {}
      },
      "source": [
        "# 加载热图需要的函数包\n",
        "install.packages(\"dendextend\")\n",
        "install.packages(\"circlize\")\n",
        "library(dendextend)\n",
        "require(\"circlize\")\n",
        "if (!requireNamespace(\"BiocManager\", quietly = TRUE))\n",
        "    install.packages(\"BiocManager\")\n",
        "BiocManager::install(\"ComplexHeatmap\")\n",
        "library(ComplexHeatmap)"
      ],
      "execution_count": 0,
      "outputs": []
    },
    {
      "cell_type": "code",
      "metadata": {
        "id": "NS7boQwicq4K",
        "colab_type": "code",
        "colab": {}
      },
      "source": [
        "# 1、读取csv文件中的实验数据，对xx表达量归一化处理\n",
        "setwd(\"/content/heatmap\")\n",
        "myfiles <- list.files(pattern = \"*.csv\")\n",
        "matrix <- read.csv(myfiles[1], sep=',', header=T, check.names=FALSE, row.names=1)\n",
        "mat <- t(matrix[,1:15])\n",
        "mat <- scale(mat, center = TRUE, scale = TRUE)\n",
        "# 2、对数据进行聚类\n",
        "dend <- as.dendrogram(hclust(dist(t(mat))))\n",
        "n <- 3;dend <- dend %>% set(\"branches_k_color\", k = n) \n",
        "par(mar=c(7.5,3,1,0));plot(dend)\n",
        "mat2 <- mat[, order.dendrogram(dend)]\n",
        "lable1 <- row.names(mat2);lable2 <- colnames(mat2);\n",
        "nr <- nrow(mat2);nr;nc <- ncol(mat2);nc\n",
        "# 3、将xx表达量数值转变为颜色\n",
        "col_fun <- colorRamp2(c(-1.5, 0, 1.5), c(\"deepskyblue\", \"white\", \"red\"))\n",
        "col_mat <- col_fun(mat2);col_mat[,1];\n",
        "# 4、画板初始化设置\n",
        "par(mar <- c(0,0,0,0));circos.clear();\n",
        "circos.par(canvas.xlim = c(-1.4,1.4),canvas.ylim = c(-1.4,1.4),cell.padding = c(0,0,0,0),gap.degree = 90)\n",
        "factors <- \"a\"\n",
        "circos.initialize(factors, xlim = c(0, ncol(mat2)))\n",
        "# 5、构建输出图像\n",
        "circos.track(ylim = c(0, nr),bg.border = NA,track.height = 0.05*nr,\n",
        "        panel.fun = function(x, y) {\n",
        "          for(i in 1:nr) {\n",
        "            circos.rect(xleft = 1:nc - 1, ybottom = rep(nr - i, nc),xright = 1:nc, \n",
        "            ytop = rep(nr - i + 1, nc),border = \"white\",col = col_mat[i,])\n",
        "            circos.text(x = nc,y = 15.2 -i,labels = lable1[i],facing = \"downward\", \n",
        "            niceFacing = TRUE,cex = 0.6,adj = c(-0.2, 0))        \n",
        "}})\n",
        "for(i in 1:nc){\n",
        "  circos.text(x = i-0.4,y = 16,labels = lable2[i],\n",
        "              facing = \"clockwise\", niceFacing = TRUE,cex = 0.5,adj = c(0, 0))\n",
        "}\n",
        "max_height <-max(attr(dend, \"height\"))\n",
        "circos.track(ylim = c(0, max_height),bg.border = NA,track.height = 0.15,\n",
        "             panel.fun = function(x, y){circos.dendrogram(dend = dend,max_height = max_height)\n",
        "})\n",
        "circos.clear()\n",
        "lgd <- Legend(at = c(-2,-1, 0, 1, 2), col_fun = col_fun,title_position = \"topcenter\",title = \"Z-score\")\n",
        "draw(lgd, x = unit(0.75, \"npc\"), y = unit(0.75, \"npc\"))"
      ],
      "execution_count": 0,
      "outputs": []
    }
  ]
}